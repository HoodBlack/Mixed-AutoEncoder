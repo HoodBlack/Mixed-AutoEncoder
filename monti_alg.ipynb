{
 "cells": [
  {
   "cell_type": "markdown",
   "metadata": {},
   "source": [
    "# Import"
   ]
  },
  {
   "cell_type": "code",
   "execution_count": 9,
   "metadata": {},
   "outputs": [],
   "source": [
    "import torch\n",
    "from models import builer as builder\n",
    "import argparse\n",
    "from torchvision.transforms import transforms\n",
    "import utils\n",
    "import pandas as pd\n",
    "import os\n",
    "import numpy as np\n",
    "import pandas as pd\n",
    "from sklearn.datasets import make_blobs\n",
    "from sklearn.cluster import KMeans"
   ]
  },
  {
   "cell_type": "code",
   "execution_count": 10,
   "metadata": {},
   "outputs": [],
   "source": [
    "from PIL import Image\n",
    "from tools import encode as en\n",
    "import matplotlib.pyplot as plt\n",
    "from sklearn.decomposition import PCA\n",
    "from sklearn.cluster import KMeans\n",
    "from sklearn.metrics import confusion_matrix\n",
    "import seaborn as sns"
   ]
  },
  {
   "cell_type": "code",
   "execution_count": 5,
   "metadata": {},
   "outputs": [
    {
     "name": "stdout",
     "output_type": "stream",
     "text": [
      "c:\\Users\\seung\\Desktop\\auto_image\\Mixed-AutoEncoder\\imagenet-autoencoder\n"
     ]
    }
   ],
   "source": [
    "cd imagenet-autoencoder"
   ]
  },
  {
   "cell_type": "markdown",
   "metadata": {},
   "source": [
    "# Prepare"
   ]
  },
  {
   "cell_type": "code",
   "execution_count": 38,
   "metadata": {},
   "outputs": [],
   "source": [
    "X, _ = make_blobs(n_samples=300, centers=4, cluster_std=0.60, random_state=0)\n",
    "args_dict = {\n",
    "    \"arch\": \"resnet34\",\n",
    "    \"resume\": \"./caltech256-resnet34.pth\",\n",
    "    \"parallel\" : 0   \n",
    "}\n",
    "args_namespace = argparse.Namespace(**args_dict)\n",
    "\n",
    "model = builder.BuildAutoEncoder(args_namespace)\n",
    "def get_encode_vector(model, dataset):\n",
    "    device = torch.device(\"cuda\" if torch.cuda.is_available() else \"cpu\")\n",
    "    model.to(device)\n",
    "    latent_vectors = []\n",
    "    trans = transforms.Compose([\n",
    "                transforms.Resize(256),                   \n",
    "                transforms.CenterCrop(224),\n",
    "                transforms.ToTensor()\n",
    "                ])\n",
    "    model.eval()\n",
    "    for i in range(len(dataset)):\n",
    "        path_img = dataset['path'].iloc[i]\n",
    "        label = dataset['class'].iloc[i]\n",
    "        img = Image.open(path_img).convert(\"RGB\")\n",
    "        img = trans(img).unsqueeze(0).to(device)\n",
    "        latent_vector =  en.encode(model,img)\n",
    "        latent_vectors.append(latent_vector.reshape(1,-1))\n",
    "    \n",
    "    return latent_vectors"
   ]
  },
  {
   "cell_type": "code",
   "execution_count": 6,
   "metadata": {},
   "outputs": [
    {
     "name": "stderr",
     "output_type": "stream",
     "text": [
      "C:\\Users\\seung\\AppData\\Local\\Temp\\ipykernel_24392\\2406257182.py:1: ParserWarning: Falling back to the 'python' engine because the 'c' engine does not support regex separators (separators > 1 char and different from '\\s+' are interpreted as regex); you can avoid this warning by specifying engine='python'.\n",
      "  data = pd.read_table('./list/weather_test_list.txt', names=[\"path\", \"class\"], delimiter='\\s')\n"
     ]
    }
   ],
   "source": [
    "data = pd.read_table('./list/weather_test_list.txt', names=[\"path\", \"class\"], delimiter='\\s')"
   ]
  },
  {
   "cell_type": "code",
   "execution_count": 14,
   "metadata": {},
   "outputs": [
    {
     "data": {
      "text/plain": [
       "(4133, 25088)"
      ]
     },
     "execution_count": 14,
     "metadata": {},
     "output_type": "execute_result"
    }
   ],
   "source": [
    "test_vector = get_encode_vector(model, data)\n",
    "test_vector_concatenated = np.concatenate(test_vector, axis=0)\n",
    "test_vector_concatenated.shape"
   ]
  },
  {
   "cell_type": "code",
   "execution_count": 15,
   "metadata": {},
   "outputs": [],
   "source": [
    "pca_resnet = PCA(n_components=700)\n",
    "pca_resnet.fit(test_vector_concatenated)\n",
    "\n",
    "test_transform_resnet = pca_resnet.transform(test_vector_concatenated)"
   ]
  },
  {
   "cell_type": "code",
   "execution_count": 17,
   "metadata": {},
   "outputs": [],
   "source": [
    "kmeans_resnet34 = KMeans(n_clusters=7)\n",
    "kmeans_resnet34.fit(test_transform_resnet)\n",
    "y_kmeans = kmeans_resnet34.predict(test_transform_resnet)"
   ]
  },
  {
   "cell_type": "code",
   "execution_count": 19,
   "metadata": {},
   "outputs": [
    {
     "data": {
      "text/plain": [
       "4133"
      ]
     },
     "execution_count": 19,
     "metadata": {},
     "output_type": "execute_result"
    }
   ],
   "source": [
    "len(y_kmeans)"
   ]
  },
  {
   "cell_type": "markdown",
   "metadata": {},
   "source": [
    "# Consensus clustering - evaluation"
   ]
  },
  {
   "cell_type": "code",
   "execution_count": 40,
   "metadata": {},
   "outputs": [],
   "source": [
    "# y_kmeans : clustering output\n",
    "# label : datas'class']\n",
    "label = data['class']"
   ]
  },
  {
   "cell_type": "code",
   "execution_count": 37,
   "metadata": {},
   "outputs": [],
   "source": [
    "def create_matrix(data, label):\n",
    "    # the input is raw data. \n",
    "    if len(data.shape)!=1:\n",
    "        raise ValueError(\"Input data must be a 1-dimensional array.\")\n",
    "    \n",
    "    N = len(data)\n",
    "    adj_matrix = np.zeros((N,N))\n",
    "    ans_matrix = np.zeros((N,N))\n",
    "    for row in range(N):\n",
    "        for col in range(N):\n",
    "            if data[row] == data[col]:\n",
    "                adj_matrix[row,col] = 1\n",
    "            if label[row]==label[col]:\n",
    "                ans_matrix[row,col]=1\n",
    "    return adj_matrix, ans_matrix"
   ]
  },
  {
   "cell_type": "code",
   "execution_count": 49,
   "metadata": {},
   "outputs": [
    {
     "data": {
      "text/plain": [
       "4133"
      ]
     },
     "execution_count": 49,
     "metadata": {},
     "output_type": "execute_result"
    }
   ],
   "source": [
    "len(data)"
   ]
  },
  {
   "cell_type": "code",
   "execution_count": 42,
   "metadata": {},
   "outputs": [],
   "source": [
    "adj_matrix, ans_matrix = create_matrix(y_kmeans, label)"
   ]
  },
  {
   "cell_type": "code",
   "execution_count": 67,
   "metadata": {},
   "outputs": [
    {
     "data": {
      "text/plain": [
       "True"
      ]
     },
     "execution_count": 67,
     "metadata": {},
     "output_type": "execute_result"
    }
   ],
   "source": [
    "np.array_equal(ans_matrix,ans_matrix.T)"
   ]
  },
  {
   "cell_type": "code",
   "execution_count": 64,
   "metadata": {},
   "outputs": [
    {
     "data": {
      "text/plain": [
       "717591"
      ]
     },
     "execution_count": 64,
     "metadata": {},
     "output_type": "execute_result"
    }
   ],
   "source": [
    "tt_matrix = (cp_matrix)/(adj_matrix + 1e-6)\n",
    "tt_matrix = np.round(tt_matrix,decimals=0)\n",
    "np.count_nonzero(tt_matrix==1)\n"
   ]
  },
  {
   "cell_type": "code",
   "execution_count": 70,
   "metadata": {},
   "outputs": [
    {
     "name": "stderr",
     "output_type": "stream",
     "text": [
      "C:\\Users\\seung\\AppData\\Local\\Temp\\ipykernel_24392\\1360274982.py:1: RuntimeWarning: divide by zero encountered in true_divide\n",
      "  eval_matrix = ans_matrix /adj_matrix\n",
      "C:\\Users\\seung\\AppData\\Local\\Temp\\ipykernel_24392\\1360274982.py:1: RuntimeWarning: invalid value encountered in true_divide\n",
      "  eval_matrix = ans_matrix /adj_matrix\n"
     ]
    },
    {
     "name": "stdout",
     "output_type": "stream",
     "text": [
      "estimated value : 86.31236390031454\n"
     ]
    }
   ],
   "source": [
    "eval_matrix = ans_matrix /adj_matrix\n",
    "eval_metrix = np.nan_to_num(eval_matrix, nan=0, posinf=0, neginf=0)\n",
    "result_num = np.count_nonzero(eval_metrix==1)\n",
    "print(f'estimated value : {(result_num-len(data))/(2*len(data))}')"
   ]
  },
  {
   "cell_type": "code",
   "execution_count": null,
   "metadata": {},
   "outputs": [],
   "source": [
    "def monti_evaluation(dataset, cluster_output):\n",
    "    "
   ]
  }
 ],
 "metadata": {
  "kernelspec": {
   "display_name": "base",
   "language": "python",
   "name": "python3"
  },
  "language_info": {
   "codemirror_mode": {
    "name": "ipython",
    "version": 3
   },
   "file_extension": ".py",
   "mimetype": "text/x-python",
   "name": "python",
   "nbconvert_exporter": "python",
   "pygments_lexer": "ipython3",
   "version": "3.9.12"
  }
 },
 "nbformat": 4,
 "nbformat_minor": 2
}
