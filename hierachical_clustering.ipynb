{
 "cells": [
  {
   "cell_type": "code",
   "execution_count": null,
   "metadata": {},
   "outputs": [],
   "source": [
    "import timm\n",
    "import numpy as np\n",
    "import torch\n",
    "import matplotlib.pyplot as plt\n",
    "import transformers\n",
    "import pandas as pd\n",
    "import seaborn as sns\n",
    "from transformers import pipeline\n",
    "from sklearn.decomposition import PCA\n",
    "from sklearn.cluster import KMeans\n",
    "from sklearn.metrics import confusion_matrix\n",
    "from PIL import Image"
   ]
  },
  {
   "cell_type": "code",
   "execution_count": null,
   "metadata": {},
   "outputs": [],
   "source": [
    "!pip install sentencepiece"
   ]
  },
  {
   "cell_type": "code",
   "execution_count": null,
   "metadata": {},
   "outputs": [],
   "source": [
    "!pip install datasets evaluate transformers[sentencepiece]"
   ]
  },
  {
   "cell_type": "code",
   "execution_count": 17,
   "metadata": {},
   "outputs": [],
   "source": [
    "!python generate_list.py --name weather_test --path ./dataset"
   ]
  },
  {
   "cell_type": "code",
   "execution_count": 18,
   "metadata": {},
   "outputs": [
    {
     "name": "stderr",
     "output_type": "stream",
     "text": [
      "C:\\Users\\seung\\AppData\\Local\\Temp\\ipykernel_18816\\228420673.py:1: ParserWarning: Falling back to the 'python' engine because the 'c' engine does not support regex separators (separators > 1 char and different from '\\s+' are interpreted as regex); you can avoid this warning by specifying engine='python'.\n",
      "  data = pd.read_table('./list/weather_test_list.txt', names=[\"path\", \"class\"], delimiter='\\s')\n"
     ]
    }
   ],
   "source": [
    "data = pd.read_table('./list/weather_test_list.txt', names=[\"path\", \"class\"], delimiter='\\s')\n",
    "label = data['class']\n",
    "num_class = len(data['class'].unique())\n",
    "names = ['fire','fogsmog', 'lightning', 'rain', 'sandstorm','snow']\n",
    "data['name'] = [names[i] for i in data['class']]"
   ]
  },
  {
   "cell_type": "code",
   "execution_count": null,
   "metadata": {},
   "outputs": [],
   "source": [
    "DEVICE = torch.device('cuda' if torch.cuda.is_available() else 'cpu')\n",
    "pipe_224= pipeline(task=\"image-feature-extraction\", model_name=\"vit_base_patch16_224\", device=DEVICE, pool=True)"
   ]
  },
  {
   "cell_type": "code",
   "execution_count": 2,
   "metadata": {},
   "outputs": [
    {
     "ename": "NameError",
     "evalue": "name 'pipe_224' is not defined",
     "output_type": "error",
     "traceback": [
      "\u001b[1;31m---------------------------------------------------------------------------\u001b[0m",
      "\u001b[1;31mNameError\u001b[0m                                 Traceback (most recent call last)",
      "Cell \u001b[1;32mIn[2], line 2\u001b[0m\n\u001b[0;32m      1\u001b[0m \u001b[38;5;66;03m#Start Inference\u001b[39;00m\n\u001b[1;32m----> 2\u001b[0m outputs \u001b[38;5;241m=\u001b[39m \u001b[43mpipe_224\u001b[49m(image_list)\n\u001b[0;32m      3\u001b[0m \u001b[38;5;66;03m#Change shapes \u001b[39;00m\n\u001b[0;32m      4\u001b[0m np_output \u001b[38;5;241m=\u001b[39m np\u001b[38;5;241m.\u001b[39marray(outputs)\n",
      "\u001b[1;31mNameError\u001b[0m: name 'pipe_224' is not defined"
     ]
    }
   ],
   "source": [
    "#Start Inference\n",
    "outputs = pipe_224(image_list)\n",
    "#Change shapes \n",
    "np_output = np.array(outputs)\n",
    "reshaped_otuput = np_output.reshape((np_output.shape[0],-1))\n",
    "reshaped_otuput.shape\n",
    "np.savetxt('./output.txt', reshaped_output)"
   ]
  }
 ],
 "metadata": {
  "kernelspec": {
   "display_name": "base",
   "language": "python",
   "name": "python3"
  },
  "language_info": {
   "codemirror_mode": {
    "name": "ipython",
    "version": 3
   },
   "file_extension": ".py",
   "mimetype": "text/x-python",
   "name": "python",
   "nbconvert_exporter": "python",
   "pygments_lexer": "ipython3",
   "version": "3.10.13"
  }
 },
 "nbformat": 4,
 "nbformat_minor": 2
}
